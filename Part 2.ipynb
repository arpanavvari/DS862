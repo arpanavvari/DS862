{
 "cells": [
  {
   "cell_type": "code",
   "execution_count": 5,
   "id": "9ca7fb21",
   "metadata": {},
   "outputs": [
    {
     "data": {
      "text/plain": [
       "(game_season      0\n",
       " game_location    0\n",
       " opp_id           0\n",
       " game_result      0\n",
       " pts              0\n",
       " fg               0\n",
       " fga              0\n",
       " fg_pct           0\n",
       " fg3              0\n",
       " fg3a             0\n",
       " fg3_pct          0\n",
       " ft               0\n",
       " fta              0\n",
       " ft_pct           0\n",
       " orb              0\n",
       " trb              0\n",
       " ast              0\n",
       " stl              0\n",
       " blk              0\n",
       " tov              0\n",
       " pf               0\n",
       " opp_fg           0\n",
       " opp_fga          0\n",
       " opp_fg_pct       0\n",
       " opp_fg3          0\n",
       " opp_fg3a         0\n",
       " opp_fg3_pct      0\n",
       " opp_ft           0\n",
       " opp_fta          0\n",
       " opp_ft_pct       0\n",
       " opp_orb          0\n",
       " opp_trb          0\n",
       " opp_ast          0\n",
       " opp_stl          0\n",
       " opp_blk          0\n",
       " opp_tov          0\n",
       " opp_pf           0\n",
       " year             0\n",
       " month            0\n",
       " day              0\n",
       " dtype: int64,\n",
       " game_season        int64\n",
       " game_location      int64\n",
       " opp_id            object\n",
       " game_result        int64\n",
       " pts                int64\n",
       " fg                 int64\n",
       " fga                int64\n",
       " fg_pct           float64\n",
       " fg3                int64\n",
       " fg3a               int64\n",
       " fg3_pct          float64\n",
       " ft                 int64\n",
       " fta                int64\n",
       " ft_pct           float64\n",
       " orb                int64\n",
       " trb                int64\n",
       " ast                int64\n",
       " stl                int64\n",
       " blk                int64\n",
       " tov                int64\n",
       " pf                 int64\n",
       " opp_fg             int64\n",
       " opp_fga            int64\n",
       " opp_fg_pct       float64\n",
       " opp_fg3            int64\n",
       " opp_fg3a           int64\n",
       " opp_fg3_pct      float64\n",
       " opp_ft             int64\n",
       " opp_fta            int64\n",
       " opp_ft_pct       float64\n",
       " opp_orb            int64\n",
       " opp_trb            int64\n",
       " opp_ast            int64\n",
       " opp_stl            int64\n",
       " opp_blk            int64\n",
       " opp_tov            int64\n",
       " opp_pf             int64\n",
       " year               int32\n",
       " month              int32\n",
       " day                int32\n",
       " dtype: object)"
      ]
     },
     "execution_count": 5,
     "metadata": {},
     "output_type": "execute_result"
    }
   ],
   "source": [
    "import pandas as pd\n",
    "\n",
    "# Loading data from the uploaded file\n",
    "data = pd.read_csv('gsw.csv')\n",
    "\n",
    "# Data preprocessing\n",
    "data['game_result'] = (data['pts'] > data['opp_pts']).astype(int)\n",
    "data['game_location'] = data['game_location'].map({'@': 0, 'home': 1})\n",
    "data['date_game'] = pd.to_datetime(data['date_game'], errors='coerce')\n",
    "data['year'] = data['date_game'].dt.year\n",
    "data['month'] = data['date_game'].dt.month\n",
    "data['day'] = data['date_game'].dt.day\n",
    "\n",
    "# Dropping unnecessary columns\n",
    "data = data.drop(['date_game', 'opp_pts'], axis=1)\n",
    "data = data.drop(['Team', 'x'], axis=1)\n",
    "\n",
    "# Checking for any remaining NaN values and the overall structure\n",
    "nan_check = data.isna().sum()\n",
    "structure = data.dtypes\n",
    "\n",
    "nan_check, structure\n",
    "\n"
   ]
  },
  {
   "cell_type": "code",
   "execution_count": 6,
   "id": "d900952a",
   "metadata": {},
   "outputs": [
    {
     "data": {
      "text/plain": [
       "{'learning_rate': 0.1, 'max_depth': 3, 'n_estimators': 200}"
      ]
     },
     "execution_count": 6,
     "metadata": {},
     "output_type": "execute_result"
    }
   ],
   "source": [
    "from sklearn.model_selection import GridSearchCV\n",
    "from sklearn.ensemble import GradientBoostingClassifier\n",
    "from sklearn.model_selection import train_test_split\n",
    "\n",
    "# Defining the hyperparameter grid for GradientBoostingClassifier\n",
    "gbc_params = {'n_estimators': [100, 200], 'learning_rate': [0.01, 0.1], 'max_depth': [3, 5]}\n",
    "\n",
    "# Splitting the dataset for model training\n",
    "X = data.drop('game_result', axis=1)\n",
    "y = data['game_result']\n",
    "X_train, X_test, y_train, y_test = train_test_split(X, y, test_size=0.2, random_state=42)\n",
    "\n",
    "# GridSearchCV for GradientBoostingClassifier\n",
    "gbc_grid_search = GridSearchCV(GradientBoostingClassifier(random_state=42), gbc_params, cv=3)\n",
    "gbc_grid_search.fit(X_train.select_dtypes(include='number'), y_train)  # Using only numerical columns\n",
    "gbc_best_params = gbc_grid_search.best_params_\n",
    "\n",
    "gbc_best_params\n",
    "\n"
   ]
  },
  {
   "cell_type": "code",
   "execution_count": 7,
   "id": "627172ed",
   "metadata": {},
   "outputs": [
    {
     "data": {
      "text/plain": [
       "{'max_depth': 10, 'min_samples_split': 10}"
      ]
     },
     "execution_count": 7,
     "metadata": {},
     "output_type": "execute_result"
    }
   ],
   "source": [
    "from sklearn.tree import DecisionTreeClassifier\n",
    "\n",
    "# Defining the hyperparameter grid for DecisionTreeClassifier\n",
    "dtc_params = {'max_depth': [None, 10, 20], 'min_samples_split': [2, 5, 10]}\n",
    "\n",
    "# GridSearchCV for DecisionTreeClassifier\n",
    "dtc_grid_search = GridSearchCV(DecisionTreeClassifier(random_state=42), dtc_params, cv=3)\n",
    "dtc_grid_search.fit(X_train.select_dtypes(include='number'), y_train)  # Using only numerical columns\n",
    "\n",
    "# Best parameters for DecisionTreeClassifier\n",
    "dtc_best_params = dtc_grid_search.best_params_\n",
    "dtc_best_params\n",
    "\n"
   ]
  },
  {
   "cell_type": "code",
   "execution_count": 1,
   "id": "a6200083",
   "metadata": {},
   "outputs": [
    {
     "name": "stderr",
     "output_type": "stream",
     "text": [
      "/Users/arpanavvari/anaconda3/lib/python3.11/site-packages/sklearn/linear_model/_logistic.py:460: ConvergenceWarning: lbfgs failed to converge (status=1):\n",
      "STOP: TOTAL NO. of ITERATIONS REACHED LIMIT.\n",
      "\n",
      "Increase the number of iterations (max_iter) or scale the data as shown in:\n",
      "    https://scikit-learn.org/stable/modules/preprocessing.html\n",
      "Please also refer to the documentation for alternative solver options:\n",
      "    https://scikit-learn.org/stable/modules/linear_model.html#logistic-regression\n",
      "  n_iter_i = _check_optimize_result(\n"
     ]
    },
    {
     "data": {
      "text/plain": [
       "(0.9942857142857143, 0.9028571428571428)"
      ]
     },
     "execution_count": 1,
     "metadata": {},
     "output_type": "execute_result"
    }
   ],
   "source": [
    "import pandas as pd\n",
    "from sklearn.model_selection import train_test_split\n",
    "from sklearn.ensemble import GradientBoostingClassifier, VotingClassifier\n",
    "from sklearn.tree import DecisionTreeClassifier\n",
    "from sklearn.preprocessing import StandardScaler, OneHotEncoder\n",
    "from sklearn.compose import ColumnTransformer\n",
    "from sklearn.pipeline import Pipeline\n",
    "from sklearn.linear_model import LogisticRegression\n",
    "from sklearn.metrics import accuracy_score\n",
    "\n",
    "# Reloading and preprocessing the data since the environment was reset\n",
    "data = pd.read_csv('gsw.csv')\n",
    "\n",
    "data['game_result'] = (data['pts'] > data['opp_pts']).astype(int)\n",
    "data['game_location'] = data['game_location'].map({'@': 0, 'home': 1})\n",
    "data['date_game'] = pd.to_datetime(data['date_game'], errors='coerce')\n",
    "data['year'] = data['date_game'].dt.year\n",
    "data['month'] = data['date_game'].dt.month\n",
    "data['day'] = data['date_game'].dt.day\n",
    "data = data.drop(['date_game', 'opp_pts', 'Team', 'x'], axis=1, errors='ignore')\n",
    "\n",
    "# Splitting the dataset\n",
    "X = data.drop('game_result', axis=1)\n",
    "y = data['game_result']\n",
    "X_train, X_test, y_train, y_test = train_test_split(X, y, test_size=0.2, random_state=42)\n",
    "\n",
    "# Training a simpler model - Logistic Regression\n",
    "simple_model = LogisticRegression(max_iter=1000)\n",
    "simple_model.fit(X_train.select_dtypes(include='number'), y_train)  # Using only numerical columns\n",
    "\n",
    "# Predicting with the simpler model\n",
    "simple_y_pred = simple_model.predict(X_test.select_dtypes(include='number'))\n",
    "\n",
    "# Calculating accuracy for the simpler model\n",
    "simple_model_accuracy = accuracy_score(y_test, simple_y_pred)\n",
    "\n",
    "# Preparing the complex model (Voting Classifier with Gradient Boosting and Decision Tree)\n",
    "# Gradient Boosting Classifier best parameters\n",
    "gbc_best_params = {'n_estimators': 200, 'learning_rate': 0.1, 'max_depth': 3}\n",
    "\n",
    "# Decision Tree Classifier best parameters\n",
    "dtc_best_params = {'max_depth': 10, 'min_samples_split': 2}\n",
    "\n",
    "# Pipeline for preprocessing\n",
    "categorical_cols = [col for col in X.columns if X[col].dtype == 'object']\n",
    "numerical_cols = [col for col in X.columns if col not in categorical_cols + ['game_result']]\n",
    "\n",
    "preprocessor = ColumnTransformer(\n",
    "    transformers=[\n",
    "        ('num', StandardScaler(), numerical_cols),\n",
    "        ('cat', OneHotEncoder(), categorical_cols)\n",
    "    ]\n",
    ")\n",
    "\n",
    "# Assembling the voting classifier\n",
    "voting_clf = VotingClassifier(\n",
    "    estimators=[\n",
    "        ('gbc', GradientBoostingClassifier(**gbc_best_params, random_state=42)),\n",
    "        ('dtc', DecisionTreeClassifier(**dtc_best_params, random_state=42))\n",
    "    ], voting='hard')\n",
    "\n",
    "# Complete pipeline\n",
    "pipeline = Pipeline(steps=[('preprocessor', preprocessor),\n",
    "                           ('classifier', voting_clf)])\n",
    "\n",
    "# Fitting the complex model\n",
    "pipeline.fit(X_train, y_train)\n",
    "\n",
    "# Predicting with the complex model\n",
    "complex_y_pred = pipeline.predict(X_test)\n",
    "complex_model_accuracy = accuracy_score(y_test, complex_y_pred)\n",
    "\n",
    "simple_model_accuracy, complex_model_accuracy\n",
    "\n"
   ]
  },
  {
   "cell_type": "code",
   "execution_count": 2,
   "id": "d7c29ed9",
   "metadata": {},
   "outputs": [
    {
     "data": {
      "image/png": "[encoded data removed]",
      "text/plain": [
       "<Figure size 1200x600 with 2 Axes>"
      ]
     },
     "metadata": {},
     "output_type": "display_data"
    }
   ],
   "source": [
    "from sklearn.metrics import confusion_matrix\n",
    "import matplotlib.pyplot as plt\n",
    "import seaborn as sns\n",
    "\n",
    "# Calculating confusion matrices for both models\n",
    "cm_simple = confusion_matrix(y_test, simple_y_pred)\n",
    "cm_complex = confusion_matrix(y_test, complex_y_pred)\n",
    "\n",
    "# Plotting the confusion matrices\n",
    "plt.figure(figsize=(12, 6))\n",
    "\n",
    "# Simple Model\n",
    "plt.subplot(1, 2, 1)\n",
    "sns.heatmap(cm_simple, annot=True, fmt='d', cmap='Blues', cbar=False)\n",
    "plt.title('Confusion Matrix: Logistic Regression')\n",
    "plt.xlabel('Predicted Label')\n",
    "plt.ylabel('True Label')\n",
    "\n",
    "# Complex Model\n",
    "plt.subplot(1, 2, 2)\n",
    "sns.heatmap(cm_complex, annot=True, fmt='d', cmap='Blues', cbar=False)\n",
    "plt.title('Confusion Matrix: Voting Classifier')\n",
    "plt.xlabel('Predicted Label')\n",
    "plt.ylabel('True Label')\n",
    "\n",
    "plt.tight_layout()\n",
    "plt.show()\n",
    "\n"
   ]
  },
  {
   "cell_type": "code",
   "execution_count": null,
   "id": "e64616a3",
   "metadata": {},
   "outputs": [],
   "source": []
  }
 ],
 "metadata": {
  "kernelspec": {
   "display_name": "Python 3 (ipykernel)",
   "language": "python",
   "name": "python3"
  },
  "language_info": {
   "codemirror_mode": {
    "name": "ipython",
    "version": 3
   },
   "file_extension": ".py",
   "mimetype": "text/x-python",
   "name": "python",
   "nbconvert_exporter": "python",
   "pygments_lexer": "ipython3",
   "version": "3.11.5"
  }
 },
 "nbformat": 4,
 "nbformat_minor": 5
}
