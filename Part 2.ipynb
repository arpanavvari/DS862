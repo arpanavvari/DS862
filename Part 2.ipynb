{
 "cells": [
  {
   "cell_type": "code",
   "execution_count": 1,
   "id": "ddebbedf",
   "metadata": {},
   "outputs": [
    {
     "data": {
      "text/plain": [
       "0.8914285714285715"
      ]
     },
     "execution_count": 1,
     "metadata": {},
     "output_type": "execute_result"
    }
   ],
   "source": [
    "import pandas as pd\n",
    "from sklearn.model_selection import train_test_split, GridSearchCV\n",
    "from sklearn.ensemble import GradientBoostingClassifier, RandomForestClassifier, VotingClassifier\n",
    "from sklearn.tree import DecisionTreeClassifier\n",
    "from sklearn.metrics import accuracy_score\n",
    "from sklearn.preprocessing import StandardScaler, OneHotEncoder\n",
    "from sklearn.compose import ColumnTransformer\n",
    "from sklearn.pipeline import Pipeline\n",
    "\n",
    "# Load and preprocess the data\n",
    "data = pd.read_csv('gsw.csv')\n",
    "data['game_result'] = (data['pts'] > data['opp_pts']).astype(int)\n",
    "data['game_location'] = data['game_location'].map({'@': 0, 'home': 1})\n",
    "data['date_game'] = pd.to_datetime(data['date_game'], errors='coerce')\n",
    "data['year'] = data['date_game'].dt.year\n",
    "data['month'] = data['date_game'].dt.month\n",
    "data['day'] = data['date_game'].dt.day\n",
    "data = data.drop(['date_game', 'opp_pts', 'Team', 'x'], axis=1, errors='ignore')\n",
    "\n",
    "# Splitting the dataset\n",
    "X = data.drop('game_result', axis=1)\n",
    "y = data['game_result']\n",
    "X_train, X_test, y_train, y_test = train_test_split(X, y, test_size=0.2, random_state=42)\n",
    "\n",
    "# Defining hyperparameters for models\n",
    "gbc_params = {'n_estimators': [100, 200], 'learning_rate': [0.01, 0.1], 'max_depth': [3, 5]}\n",
    "dtc_params = {'max_depth': [None, 10, 20], 'min_samples_split': [5, 10, 20, 30]}\n",
    "\n",
    "# GridSearchCV for GradientBoostingClassifier\n",
    "gbc_grid_search = GridSearchCV(GradientBoostingClassifier(random_state=42), gbc_params, cv=3)\n",
    "gbc_grid_search.fit(X_train.select_dtypes(include='number'), y_train)\n",
    "gbc_best_params = gbc_grid_search.best_params_\n",
    "\n",
    "# GridSearchCV for DecisionTreeClassifier\n",
    "dtc_grid_search = GridSearchCV(DecisionTreeClassifier(random_state=42), dtc_params, cv=3)\n",
    "dtc_grid_search.fit(X_train.select_dtypes(include='number'), y_train)\n",
    "dtc_best_params = dtc_grid_search.best_params_\n",
    "\n",
    "# Preprocessing pipeline\n",
    "categorical_cols = [col for col in X.columns if X[col].dtype == 'object']\n",
    "numerical_cols = [col for col in X.columns if col not in categorical_cols + ['game_result']]\n",
    "\n",
    "preprocessor = ColumnTransformer(\n",
    "    transformers=[\n",
    "        ('num', StandardScaler(), numerical_cols),\n",
    "        ('cat', OneHotEncoder(), categorical_cols)\n",
    "    ]\n",
    ")\n",
    "\n",
    "# Assembling the voting classifier\n",
    "voting_clf = VotingClassifier(\n",
    "    estimators=[\n",
    "        ('gbc', GradientBoostingClassifier(**gbc_best_params, random_state=42)),\n",
    "        ('dtc', DecisionTreeClassifier(**dtc_best_params, random_state=42))\n",
    "    ], voting='hard')\n",
    "\n",
    "# Pipeline for the complex model\n",
    "pipeline = Pipeline(steps=[('preprocessor', preprocessor), ('classifier', voting_clf)])\n",
    "\n",
    "# Fitting and predicting with the complex model\n",
    "pipeline.fit(X_train, y_train)\n",
    "complex_y_pred = pipeline.predict(X_test)\n",
    "complex_model_accuracy = accuracy_score(y_test, complex_y_pred)\n",
    "\n",
    "# Displaying accuracy of the complex model\n",
    "complex_model_accuracy\n"
   ]
  },
  {
   "cell_type": "code",
   "execution_count": 9,
   "id": "4879d553",
   "metadata": {},
   "outputs": [
    {
     "name": "stderr",
     "output_type": "stream",
     "text": [
      "/Users/arpanavvari/anaconda3/lib/python3.11/site-packages/sklearn/linear_model/_logistic.py:460: ConvergenceWarning: lbfgs failed to converge (status=1):\n",
      "STOP: TOTAL NO. of ITERATIONS REACHED LIMIT.\n",
      "\n",
      "Increase the number of iterations (max_iter) or scale the data as shown in:\n",
      "    https://scikit-learn.org/stable/modules/preprocessing.html\n",
      "Please also refer to the documentation for alternative solver options:\n",
      "    https://scikit-learn.org/stable/modules/linear_model.html#logistic-regression\n",
      "  n_iter_i = _check_optimize_result(\n"
     ]
    },
    {
     "data": {
      "text/plain": [
       "0.9942857142857143"
      ]
     },
     "execution_count": 9,
     "metadata": {},
     "output_type": "execute_result"
    }
   ],
   "source": [
    "from sklearn.linear_model import LogisticRegression\n",
    "\n",
    "# Training a simpler model - Logistic Regression\n",
    "simple_model = LogisticRegression(max_iter=1000)\n",
    "simple_model.fit(X_train.select_dtypes(include='number'), y_train)  # Using only numerical columns\n",
    "\n",
    "# Predicting with the simpler model\n",
    "simple_y_pred = simple_model.predict(X_test.select_dtypes(include='number'))\n",
    "\n",
    "# Calculating accuracy for the simpler model\n",
    "simple_model_accuracy = accuracy_score(y_test, simple_y_pred)\n",
    "simple_model_accuracy\n"
   ]
  },
  {
   "cell_type": "code",
   "execution_count": 3,
   "id": "d7c29ed9",
   "metadata": {},
   "outputs": [
    {
     "data": {
      "image/png": "[encoded data removed]",
      "text/plain": [
       "<Figure size 1200x600 with 2 Axes>"
      ]
     },
     "metadata": {},
     "output_type": "display_data"
    }
   ],
   "source": [
    "from sklearn.metrics import confusion_matrix\n",
    "import matplotlib.pyplot as plt\n",
    "import seaborn as sns\n",
    "\n",
    "# Calculating confusion matrices for both models\n",
    "cm_simple = confusion_matrix(y_test, simple_y_pred)\n",
    "cm_complex = confusion_matrix(y_test, complex_y_pred)\n",
    "\n",
    "# Plotting the confusion matrices\n",
    "plt.figure(figsize=(12, 6))\n",
    "\n",
    "# Simple Model\n",
    "plt.subplot(1, 2, 1)\n",
    "sns.heatmap(cm_simple, annot=True, fmt='d', cmap='Blues', cbar=False)\n",
    "plt.title('Confusion Matrix: Logistic Regression')\n",
    "plt.xlabel('Predicted Label')\n",
    "plt.ylabel('True Label')\n",
    "\n",
    "# Complex Model\n",
    "plt.subplot(1, 2, 2)\n",
    "sns.heatmap(cm_complex, annot=True, fmt='d', cmap='Blues', cbar=False)\n",
    "plt.title('Confusion Matrix: Voting Classifier')\n",
    "plt.xlabel('Predicted Label')\n",
    "plt.ylabel('True Label')\n",
    "\n",
    "plt.tight_layout()\n",
    "plt.show()\n",
    "\n"
   ]
  },
  {
   "cell_type": "code",
   "execution_count": 4,
   "id": "357c0eb7",
   "metadata": {},
   "outputs": [
    {
     "name": "stdout",
     "output_type": "stream",
     "text": [
      "Simple Model Metrics:\n",
      "Precision: 1.0\n",
      "Recall: 0.9913793103448276\n",
      "F1-Score: 0.9956709956709957\n",
      "Confusion Matrix:\n",
      " [[ 59   0]\n",
      " [  1 115]]\n",
      "              precision    recall  f1-score   support\n",
      "\n",
      "           0       0.98      1.00      0.99        59\n",
      "           1       1.00      0.99      1.00       116\n",
      "\n",
      "    accuracy                           0.99       175\n",
      "   macro avg       0.99      1.00      0.99       175\n",
      "weighted avg       0.99      0.99      0.99       175\n",
      "\n",
      "\n",
      "Complex Model Metrics:\n",
      "Precision: 0.970873786407767\n",
      "Recall: 0.8620689655172413\n",
      "F1-Score: 0.91324200913242\n",
      "Confusion Matrix:\n",
      " [[ 56   3]\n",
      " [ 16 100]]\n",
      "              precision    recall  f1-score   support\n",
      "\n",
      "           0       0.78      0.95      0.85        59\n",
      "           1       0.97      0.86      0.91       116\n",
      "\n",
      "    accuracy                           0.89       175\n",
      "   macro avg       0.87      0.91      0.88       175\n",
      "weighted avg       0.91      0.89      0.89       175\n",
      "\n"
     ]
    }
   ],
   "source": [
    "from sklearn.metrics import precision_score, recall_score, f1_score, confusion_matrix, classification_report\n",
    "\n",
    "# Assuming simple_y_pred and complex_y_pred are predictions from simple_model and complex_model\n",
    "# You've already computed these in your previous code snippets\n",
    "\n",
    "# Calculate metrics for the simple model\n",
    "simple_precision = precision_score(y_test, simple_y_pred)\n",
    "simple_recall = recall_score(y_test, simple_y_pred)\n",
    "simple_f1 = f1_score(y_test, simple_y_pred)\n",
    "simple_conf_matrix = confusion_matrix(y_test, simple_y_pred)\n",
    "\n",
    "# Calculate metrics for the complex model\n",
    "complex_precision = precision_score(y_test, complex_y_pred)\n",
    "complex_recall = recall_score(y_test, complex_y_pred)\n",
    "complex_f1 = f1_score(y_test, complex_y_pred)\n",
    "complex_conf_matrix = confusion_matrix(y_test, complex_y_pred)\n",
    "\n",
    "# Output results for the simple model\n",
    "print(\"Simple Model Metrics:\")\n",
    "print(\"Precision:\", simple_precision)\n",
    "print(\"Recall:\", simple_recall)\n",
    "print(\"F1-Score:\", simple_f1)\n",
    "print(\"Confusion Matrix:\\n\", simple_conf_matrix)\n",
    "print(classification_report(y_test, simple_y_pred))\n",
    "\n",
    "# Output results for the complex model\n",
    "print(\"\\nComplex Model Metrics:\")\n",
    "print(\"Precision:\", complex_precision)\n",
    "print(\"Recall:\", complex_recall)\n",
    "print(\"F1-Score:\", complex_f1)\n",
    "print(\"Confusion Matrix:\\n\", complex_conf_matrix)\n",
    "print(classification_report(y_test, complex_y_pred))\n"
   ]
  },
  {
   "cell_type": "code",
   "execution_count": null,
   "id": "c7faaf9e",
   "metadata": {},
   "outputs": [],
   "source": []
  }
 ],
 "metadata": {
  "kernelspec": {
   "display_name": "Python 3 (ipykernel)",
   "language": "python",
   "name": "python3"
  },
  "language_info": {
   "codemirror_mode": {
    "name": "ipython",
    "version": 3
   },
   "file_extension": ".py",
   "mimetype": "text/x-python",
   "name": "python",
   "nbconvert_exporter": "python",
   "pygments_lexer": "ipython3",
   "version": "3.11.5"
  }
 },
 "nbformat": 4,
 "nbformat_minor": 5
}
